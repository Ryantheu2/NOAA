{
 "cells": [
  {
   "cell_type": "code",
   "execution_count": null,
   "metadata": {},
   "outputs": [],
   "source": [
    "# Block 0: Documentation\n",
    "\n",
    "print('Program to animate figures, AMS Short Course, March 18, 2021\\n')\n",
    "print('Version 1.0, February 8, 2021\\n')\n",
    "print('Written by Dr. Amy Huff (IMSG at NOAA/NESDIS/STAR) and Ryan Theurer (GVT LLC at NOAA/NESDIS/STAR)\\n')\n",
    "print('For questions contact Dr. Huff: amy.huff@noaa.gov\\n')\n",
    "print('This program creates an animation of multiple graphics files (figures).\\n')\n",
    "print('Block 1 imports modules and libraries, and block 2 is a function that require no input from the user; there is no visible output from these blocks. In block 3, the user enters settings and obtains output.')"
   ]
  },
  {
   "cell_type": "code",
   "execution_count": null,
   "metadata": {
    "scrolled": false
   },
   "outputs": [],
   "source": [
    "# Block 1: Import modules and libraries\n",
    "\n",
    "# Module to access files in the directory\n",
    "import os\n",
    "\n",
    "# Module to collect lists of files from folders\n",
    "import glob\n",
    "\n",
    "# Library for creating animations\n",
    "from PIL import Image"
   ]
  },
  {
   "cell_type": "code",
   "execution_count": null,
   "metadata": {},
   "outputs": [],
   "source": [
    "# Block 2: Animate multiple figures using python image library (Pillow)\n",
    "# Pillow is preferred for figures that contain continuous colorbars, like AOD\n",
    "# \"save_name\", \"pil_duration\", and \"loop\" are global variables set in final block\n",
    "\n",
    "def pillow_animation(file_list, save_name, pil_duration, loop):\n",
    "\n",
    "    # Create an empty list to store figures\n",
    "    frames = []\n",
    "\n",
    "    # Loop through graphics files and append\n",
    "    for x in file_list:\n",
    "        new_frame = Image.open(x)\n",
    "        frames.append(new_frame)\n",
    "\n",
    "    # Save animation with given \"save_name\" set in Block 3\n",
    "    frames[0].save(save_name, format='GIF', append_images=frames[1:], save_all=True, duration=pil_duration, loop=loop)\n",
    "\n",
    "    # Close the graphics files we opened\n",
    "    for x in file_list:\n",
    "        new_frame.close()\n",
    "\n",
    "    print('Animation done!')"
   ]
  },
  {
   "cell_type": "code",
   "execution_count": null,
   "metadata": {},
   "outputs": [],
   "source": [
    "# Block 3: Enter user settings and create an animation of graphics files\n",
    "\n",
    "# File settings\n",
    "file_path = os.getcwd() + '/'  # Where graphics files are located and animation will be saved\n",
    "save_name = 'G17_ABI_AOD_Top2_20201203_Animation.gif'  # File name for saved animation\n",
    "\n",
    "# Animation settings\n",
    "pil_duration = 1000  # Speed of frame animation in ms (e.g., 1000 ms = 1 second between frames)\n",
    "loop = 0  # Number of times animation repeats (e.g., 0: animation loops continuously, 2: animation runs 3 times total)\n",
    "\n",
    "#####################################################################################################################\n",
    "\n",
    "if __name__ == \"__main__\":\n",
    "    \n",
    "    # Collect all of graphics files in given subdirectory\n",
    "    # Wild card notation and keywords ('*top2*.png') selects all .png files containing \"top2\" in file name\n",
    "    file_list = sorted(glob.glob(file_path + '*top2*.png'))\n",
    "    pillow_animation(file_list, save_name, pil_duration, loop)"
   ]
  },
  {
   "cell_type": "code",
   "execution_count": null,
   "metadata": {},
   "outputs": [],
   "source": []
  }
 ],
 "metadata": {
  "kernelspec": {
   "display_name": "Python 3",
   "language": "python",
   "name": "python3"
  },
  "language_info": {
   "codemirror_mode": {
    "name": "ipython",
    "version": 3
   },
   "file_extension": ".py",
   "mimetype": "text/x-python",
   "name": "python",
   "nbconvert_exporter": "python",
   "pygments_lexer": "ipython3",
   "version": "3.8.5"
  },
  "varInspector": {
   "cols": {
    "lenName": 16,
    "lenType": 16,
    "lenVar": 40
   },
   "kernels_config": {
    "python": {
     "delete_cmd_postfix": "",
     "delete_cmd_prefix": "del ",
     "library": "var_list.py",
     "varRefreshCmd": "print(var_dic_list())"
    },
    "r": {
     "delete_cmd_postfix": ") ",
     "delete_cmd_prefix": "rm(",
     "library": "var_list.r",
     "varRefreshCmd": "cat(var_dic_list()) "
    }
   },
   "types_to_exclude": [
    "module",
    "function",
    "builtin_function_or_method",
    "instance",
    "_Feature"
   ],
   "window_display": false
  }
 },
 "nbformat": 4,
 "nbformat_minor": 2
}
