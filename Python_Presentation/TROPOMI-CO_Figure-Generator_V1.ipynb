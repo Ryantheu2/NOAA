{
 "cells": [
  {
   "cell_type": "code",
   "execution_count": 8,
   "metadata": {
    "ExecuteTime": {
     "end_time": "2020-02-28T19:47:11.591864Z",
     "start_time": "2020-02-28T19:47:11.584882Z"
    }
   },
   "outputs": [],
   "source": [
    "#Import libraries and settings\n",
    "\n",
    "#To perform array operations\n",
    "import numpy as np\n",
    "\n",
    "#Main plotting library\n",
    "import matplotlib as mpl\n",
    "from matplotlib import pyplot as plt\n",
    "import matplotlib.ticker as ticker\n",
    "\n",
    "#Libaries for drawing figures and map projections\n",
    "import cartopy\n",
    "from cartopy import crs as ccrs\n",
    "import cartopy.feature as cfeature\n",
    "from cartopy.feature import NaturalEarthFeature\n",
    "from cartopy.mpl.ticker import LongitudeFormatter, LatitudeFormatter\n",
    "\n",
    "#Library for accessing files in the directory\n",
    "import os\n",
    "\n",
    "#To read in netCDF files\n",
    "from netCDF4 import Dataset\n",
    "\n",
    "#Library for using math functions\n",
    "import math\n",
    "\n",
    "#Library for collecting lists of files from folders\n",
    "import glob\n",
    "\n",
    "#Operator library with commands for joining data together\n",
    "from operator import and_\n",
    "\n",
    "import warnings\n",
    "warnings.filterwarnings('ignore')\n",
    "\n",
    "#Sets font size to 12\n",
    "plt.rcParams.update({'font.size': 12})\n",
    "\n",
    "#Option to keep numpy from printing in scientific notation by default\n",
    "np.set_printoptions(suppress = True)"
   ]
  },
  {
   "cell_type": "code",
   "execution_count": null,
   "metadata": {},
   "outputs": [],
   "source": [
    "#Work with a single file (MODIFY path, file name)\n",
    "\n",
    "fname = 'D://Data/20200103/TROPOMI CO/' + 'S5P_OFFL_L2__CO_____20200103T033746_20200103T051916_11517_01_010302_20200104T172907.nc'\n",
    "\n",
    "#Set the file name to read\n",
    "file_id = Dataset(fname)\n",
    "\n",
    "#Explore the contents of the file (UNCOMMENT the 'print' commands one by one to see various aspects of the file)\n",
    "\n",
    "#Check the contents of the entire file\n",
    "##print(file_id)\n",
    "\n",
    "#Check the contents of the \"groups\" portion of the file\n",
    "##print(file_id.groups)\n",
    "\n",
    "#Check the contents of the \"PRODUCT\" portion of the file\n",
    "##print(file_id.groups['PRODUCT'])\n",
    "\n",
    "#Check the \"qa_value\" metadata\n",
    "##print(file_id.groups['PRODUCT'].variables['qa_value'])\n",
    "\n",
    "#Check the \"carbonmonoxide_total_column\" metadata\n",
    "##print(file_id.groups['PRODUCT'].variables['carbonmonoxide_total_column'])\n",
    "\n",
    "#Check the \"carbonmonoxide_total_column\" array values\n",
    "##print(file_id.groups['PRODUCT'].variables['carbonmonoxide_total_column'][:,:])"
   ]
  },
  {
   "cell_type": "code",
   "execution_count": 33,
   "metadata": {
    "ExecuteTime": {
     "end_time": "2020-02-28T20:25:09.490188Z",
     "start_time": "2020-02-28T20:25:09.477227Z"
    }
   },
   "outputs": [
    {
     "name": "stdout",
     "output_type": "stream",
     "text": [
      "<class 'numpy.ma.core.MaskedArray'>\n"
     ]
    }
   ],
   "source": [
    "print(type(file_id.groups['PRODUCT'].variables['carbonmonoxide_total_column'][:,:]))"
   ]
  },
  {
   "cell_type": "code",
   "execution_count": 3,
   "metadata": {
    "ExecuteTime": {
     "end_time": "2020-02-28T19:44:41.316807Z",
     "start_time": "2020-02-28T19:44:41.305836Z"
    }
   },
   "outputs": [
    {
     "name": "stdout",
     "output_type": "stream",
     "text": [
      "Total column CO unit is mol m-2\n",
      "Quality flag value is 1\n",
      "Latitude unit is degrees_north\n",
      "Longitude unit is degrees_east\n"
     ]
    }
   ],
   "source": [
    "#Check the units for the variables of interest (note: \"1\" means unitless)\n",
    "\n",
    "print('Total column CO unit is', (file_id.groups['PRODUCT'].variables['carbonmonoxide_total_column'].__getattr__('units')))\n",
    "print('Quality flag value is', (file_id.groups['PRODUCT'].variables['qa_value'].__getattr__('units')))\n",
    "print('Latitude unit is', (file_id.groups['PRODUCT'].variables['latitude'].__getattr__('units')))\n",
    "print('Longitude unit is', (file_id.groups['PRODUCT'].variables['longitude'].__getattr__('units')))"
   ]
  },
  {
   "cell_type": "code",
   "execution_count": 4,
   "metadata": {
    "ExecuteTime": {
     "end_time": "2020-02-28T19:44:46.712723Z",
     "start_time": "2020-02-28T19:44:46.610673Z"
    }
   },
   "outputs": [
    {
     "name": "stdout",
     "output_type": "stream",
     "text": [
      "Total column CO data type is float32\n",
      "Quality flag data type is float32\n",
      "Latitude data type is float32\n",
      "Longitude data type is float32\n"
     ]
    }
   ],
   "source": [
    "#Check the data type for the variables of interest\n",
    "\n",
    "print('Total column CO data type is', (file_id.groups['PRODUCT'].variables['carbonmonoxide_total_column'][:,:].dtype))\n",
    "print('Quality flag data type is', (file_id.groups['PRODUCT'].variables['qa_value'][:,:].dtype))\n",
    "print('Latitude data type is', (file_id.groups['PRODUCT'].variables['latitude'][:].dtype))\n",
    "print('Longitude data type is', (file_id.groups['PRODUCT'].variables['longitude'][:].dtype))"
   ]
  },
  {
   "cell_type": "code",
   "execution_count": 23,
   "metadata": {
    "ExecuteTime": {
     "end_time": "2020-02-28T20:17:00.260605Z",
     "start_time": "2020-02-28T20:17:00.193820Z"
    }
   },
   "outputs": [],
   "source": [
    "#Select and process CO data from a single file\n",
    "\n",
    "#Read in CO data\n",
    "CO_data = file_id.groups['PRODUCT'].variables['carbonmonoxide_total_column'][:,:]\n",
    "\n",
    "#Select quality of CO data pixels using the \"qa_value\" variable (MODIFY)\n",
    "#Science team recommends ignoring data with qa_value < 0.5\n",
    "qa_value = file_id.groups['PRODUCT'].variables['qa_value'][:,:]\n",
    "Quality_Mask = (qa_value < 0.5)\n",
    "CO = np.ma.masked_where(Quality_Mask, CO_data)\n",
    "\n",
    "#Read in latitude and longitude; convert longitude from [0,180] to [0,360] to avoid plotting errors near International Date Line\n",
    "Lon_180 = file_id.groups['PRODUCT'].variables['longitude'][:,:]\n",
    "Lon = (Lon_180 % 360)\n",
    "Lat = file_id.groups['PRODUCT'].variables['latitude'][:,:]"
   ]
  },
  {
   "cell_type": "code",
   "execution_count": 24,
   "metadata": {
    "ExecuteTime": {
     "end_time": "2020-02-28T20:17:04.034928Z",
     "start_time": "2020-02-28T20:17:04.018008Z"
    }
   },
   "outputs": [
    {
     "name": "stdout",
     "output_type": "stream",
     "text": [
      "CO: minimum value is 0.001646555; maximum value is 1.2838827\n",
      "Latitude: minimum value is -89.963615 degrees; maximum value is 81.717445 degrees\n",
      "Longitude: minimum value is 0.0016886574 degrees; maximum value is 359.9912 degrees\n"
     ]
    }
   ],
   "source": [
    "#Review processed data (sanity check)\n",
    "\n",
    "print('CO: minimum value is ' + str(np.min(CO)) + ';' + ' maximum value is ' + str(np.max(CO)))\n",
    "print('Latitude: minimum value is ' + str(np.min(Lat)) + ' degrees;' + ' maximum value is ' + str(np.max(Lat)) + ' degrees')\n",
    "print('Longitude: minimum value is ' + str(np.min(Lon)) + ' degrees;' + ' maximum value is ' + str(np.max(Lon)) + ' degrees')"
   ]
  },
  {
   "cell_type": "code",
   "execution_count": 26,
   "metadata": {
    "ExecuteTime": {
     "end_time": "2020-02-28T20:17:26.254967Z",
     "start_time": "2020-02-28T20:17:25.856664Z"
    }
   },
   "outputs": [
    {
     "ename": "TypeError",
     "evalue": "Input z must be a 2D array.",
     "output_type": "error",
     "traceback": [
      "\u001b[1;31m---------------------------------------------------------------------------\u001b[0m",
      "\u001b[1;31mTypeError\u001b[0m                                 Traceback (most recent call last)",
      "\u001b[1;32m<ipython-input-26-68b740f827ff>\u001b[0m in \u001b[0;36m<module>\u001b[1;34m\u001b[0m\n\u001b[0;32m     56\u001b[0m \u001b[1;33m\u001b[0m\u001b[0m\n\u001b[0;32m     57\u001b[0m \u001b[1;31m#Create filled contour plot of AOD data\u001b[0m\u001b[1;33m\u001b[0m\u001b[1;33m\u001b[0m\u001b[1;33m\u001b[0m\u001b[0m\n\u001b[1;32m---> 58\u001b[1;33m \u001b[0mPlot\u001b[0m \u001b[1;33m=\u001b[0m \u001b[0max\u001b[0m\u001b[1;33m.\u001b[0m\u001b[0mcontourf\u001b[0m\u001b[1;33m(\u001b[0m\u001b[0mLon\u001b[0m\u001b[1;33m,\u001b[0m \u001b[0mLat\u001b[0m\u001b[1;33m,\u001b[0m \u001b[0mCO\u001b[0m\u001b[1;33m,\u001b[0m \u001b[0mdata_range\u001b[0m\u001b[1;33m,\u001b[0m \u001b[0mcmap\u001b[0m \u001b[1;33m=\u001b[0m \u001b[0mcolor_map\u001b[0m\u001b[1;33m,\u001b[0m \u001b[0mextend\u001b[0m \u001b[1;33m=\u001b[0m \u001b[1;34m'max'\u001b[0m\u001b[1;33m,\u001b[0m \u001b[0mzorder\u001b[0m \u001b[1;33m=\u001b[0m \u001b[1;36m3\u001b[0m\u001b[1;33m,\u001b[0m \u001b[0mtransform\u001b[0m \u001b[1;33m=\u001b[0m \u001b[0mccrs\u001b[0m\u001b[1;33m.\u001b[0m\u001b[0mPlateCarree\u001b[0m\u001b[1;33m(\u001b[0m\u001b[1;33m)\u001b[0m\u001b[1;33m)\u001b[0m\u001b[1;33m\u001b[0m\u001b[1;33m\u001b[0m\u001b[0m\n\u001b[0m\u001b[0;32m     59\u001b[0m \u001b[1;33m\u001b[0m\u001b[0m\n\u001b[0;32m     60\u001b[0m \u001b[1;31m#Show figure\u001b[0m\u001b[1;33m\u001b[0m\u001b[1;33m\u001b[0m\u001b[1;33m\u001b[0m\u001b[0m\n",
      "\u001b[1;32mC:\\ProgramData\\Anaconda3\\lib\\site-packages\\cartopy\\mpl\\geoaxes.py\u001b[0m in \u001b[0;36mcontourf\u001b[1;34m(self, *args, **kwargs)\u001b[0m\n\u001b[0;32m   1389\u001b[0m                         \u001b[0msub_trans\u001b[0m\u001b[1;33m.\u001b[0m\u001b[0mforce_path_ccw\u001b[0m \u001b[1;33m=\u001b[0m \u001b[1;32mTrue\u001b[0m\u001b[1;33m\u001b[0m\u001b[1;33m\u001b[0m\u001b[0m\n\u001b[0;32m   1390\u001b[0m \u001b[1;33m\u001b[0m\u001b[0m\n\u001b[1;32m-> 1391\u001b[1;33m         \u001b[0mresult\u001b[0m \u001b[1;33m=\u001b[0m \u001b[0mmatplotlib\u001b[0m\u001b[1;33m.\u001b[0m\u001b[0maxes\u001b[0m\u001b[1;33m.\u001b[0m\u001b[0mAxes\u001b[0m\u001b[1;33m.\u001b[0m\u001b[0mcontourf\u001b[0m\u001b[1;33m(\u001b[0m\u001b[0mself\u001b[0m\u001b[1;33m,\u001b[0m \u001b[1;33m*\u001b[0m\u001b[0margs\u001b[0m\u001b[1;33m,\u001b[0m \u001b[1;33m**\u001b[0m\u001b[0mkwargs\u001b[0m\u001b[1;33m)\u001b[0m\u001b[1;33m\u001b[0m\u001b[1;33m\u001b[0m\u001b[0m\n\u001b[0m\u001b[0;32m   1392\u001b[0m \u001b[1;33m\u001b[0m\u001b[0m\n\u001b[0;32m   1393\u001b[0m         \u001b[1;31m# We need to compute the dataLim correctly for contours.\u001b[0m\u001b[1;33m\u001b[0m\u001b[1;33m\u001b[0m\u001b[1;33m\u001b[0m\u001b[0m\n",
      "\u001b[1;32mC:\\ProgramData\\Anaconda3\\lib\\site-packages\\matplotlib\\__init__.py\u001b[0m in \u001b[0;36minner\u001b[1;34m(ax, data, *args, **kwargs)\u001b[0m\n\u001b[0;32m   1599\u001b[0m     \u001b[1;32mdef\u001b[0m \u001b[0minner\u001b[0m\u001b[1;33m(\u001b[0m\u001b[0max\u001b[0m\u001b[1;33m,\u001b[0m \u001b[1;33m*\u001b[0m\u001b[0margs\u001b[0m\u001b[1;33m,\u001b[0m \u001b[0mdata\u001b[0m\u001b[1;33m=\u001b[0m\u001b[1;32mNone\u001b[0m\u001b[1;33m,\u001b[0m \u001b[1;33m**\u001b[0m\u001b[0mkwargs\u001b[0m\u001b[1;33m)\u001b[0m\u001b[1;33m:\u001b[0m\u001b[1;33m\u001b[0m\u001b[1;33m\u001b[0m\u001b[0m\n\u001b[0;32m   1600\u001b[0m         \u001b[1;32mif\u001b[0m \u001b[0mdata\u001b[0m \u001b[1;32mis\u001b[0m \u001b[1;32mNone\u001b[0m\u001b[1;33m:\u001b[0m\u001b[1;33m\u001b[0m\u001b[1;33m\u001b[0m\u001b[0m\n\u001b[1;32m-> 1601\u001b[1;33m             \u001b[1;32mreturn\u001b[0m \u001b[0mfunc\u001b[0m\u001b[1;33m(\u001b[0m\u001b[0max\u001b[0m\u001b[1;33m,\u001b[0m \u001b[1;33m*\u001b[0m\u001b[0mmap\u001b[0m\u001b[1;33m(\u001b[0m\u001b[0msanitize_sequence\u001b[0m\u001b[1;33m,\u001b[0m \u001b[0margs\u001b[0m\u001b[1;33m)\u001b[0m\u001b[1;33m,\u001b[0m \u001b[1;33m**\u001b[0m\u001b[0mkwargs\u001b[0m\u001b[1;33m)\u001b[0m\u001b[1;33m\u001b[0m\u001b[1;33m\u001b[0m\u001b[0m\n\u001b[0m\u001b[0;32m   1602\u001b[0m \u001b[1;33m\u001b[0m\u001b[0m\n\u001b[0;32m   1603\u001b[0m         \u001b[0mbound\u001b[0m \u001b[1;33m=\u001b[0m \u001b[0mnew_sig\u001b[0m\u001b[1;33m.\u001b[0m\u001b[0mbind\u001b[0m\u001b[1;33m(\u001b[0m\u001b[0max\u001b[0m\u001b[1;33m,\u001b[0m \u001b[1;33m*\u001b[0m\u001b[0margs\u001b[0m\u001b[1;33m,\u001b[0m \u001b[1;33m**\u001b[0m\u001b[0mkwargs\u001b[0m\u001b[1;33m)\u001b[0m\u001b[1;33m\u001b[0m\u001b[1;33m\u001b[0m\u001b[0m\n",
      "\u001b[1;32mC:\\ProgramData\\Anaconda3\\lib\\site-packages\\matplotlib\\axes\\_axes.py\u001b[0m in \u001b[0;36mcontourf\u001b[1;34m(self, *args, **kwargs)\u001b[0m\n\u001b[0;32m   6420\u001b[0m     \u001b[1;32mdef\u001b[0m \u001b[0mcontourf\u001b[0m\u001b[1;33m(\u001b[0m\u001b[0mself\u001b[0m\u001b[1;33m,\u001b[0m \u001b[1;33m*\u001b[0m\u001b[0margs\u001b[0m\u001b[1;33m,\u001b[0m \u001b[1;33m**\u001b[0m\u001b[0mkwargs\u001b[0m\u001b[1;33m)\u001b[0m\u001b[1;33m:\u001b[0m\u001b[1;33m\u001b[0m\u001b[1;33m\u001b[0m\u001b[0m\n\u001b[0;32m   6421\u001b[0m         \u001b[0mkwargs\u001b[0m\u001b[1;33m[\u001b[0m\u001b[1;34m'filled'\u001b[0m\u001b[1;33m]\u001b[0m \u001b[1;33m=\u001b[0m \u001b[1;32mTrue\u001b[0m\u001b[1;33m\u001b[0m\u001b[1;33m\u001b[0m\u001b[0m\n\u001b[1;32m-> 6422\u001b[1;33m         \u001b[0mcontours\u001b[0m \u001b[1;33m=\u001b[0m \u001b[0mmcontour\u001b[0m\u001b[1;33m.\u001b[0m\u001b[0mQuadContourSet\u001b[0m\u001b[1;33m(\u001b[0m\u001b[0mself\u001b[0m\u001b[1;33m,\u001b[0m \u001b[1;33m*\u001b[0m\u001b[0margs\u001b[0m\u001b[1;33m,\u001b[0m \u001b[1;33m**\u001b[0m\u001b[0mkwargs\u001b[0m\u001b[1;33m)\u001b[0m\u001b[1;33m\u001b[0m\u001b[1;33m\u001b[0m\u001b[0m\n\u001b[0m\u001b[0;32m   6423\u001b[0m         \u001b[0mself\u001b[0m\u001b[1;33m.\u001b[0m\u001b[0mautoscale_view\u001b[0m\u001b[1;33m(\u001b[0m\u001b[1;33m)\u001b[0m\u001b[1;33m\u001b[0m\u001b[1;33m\u001b[0m\u001b[0m\n\u001b[0;32m   6424\u001b[0m         \u001b[1;32mreturn\u001b[0m \u001b[0mcontours\u001b[0m\u001b[1;33m\u001b[0m\u001b[1;33m\u001b[0m\u001b[0m\n",
      "\u001b[1;32mC:\\ProgramData\\Anaconda3\\lib\\site-packages\\matplotlib\\contour.py\u001b[0m in \u001b[0;36m__init__\u001b[1;34m(self, ax, levels, filled, linewidths, linestyles, alpha, origin, extent, cmap, colors, norm, vmin, vmax, extend, antialiased, *args, **kwargs)\u001b[0m\n\u001b[0;32m    853\u001b[0m         \u001b[0mself\u001b[0m\u001b[1;33m.\u001b[0m\u001b[0m_transform\u001b[0m \u001b[1;33m=\u001b[0m \u001b[0mkwargs\u001b[0m\u001b[1;33m.\u001b[0m\u001b[0mpop\u001b[0m\u001b[1;33m(\u001b[0m\u001b[1;34m'transform'\u001b[0m\u001b[1;33m,\u001b[0m \u001b[1;32mNone\u001b[0m\u001b[1;33m)\u001b[0m\u001b[1;33m\u001b[0m\u001b[1;33m\u001b[0m\u001b[0m\n\u001b[0;32m    854\u001b[0m \u001b[1;33m\u001b[0m\u001b[0m\n\u001b[1;32m--> 855\u001b[1;33m         \u001b[0mkwargs\u001b[0m \u001b[1;33m=\u001b[0m \u001b[0mself\u001b[0m\u001b[1;33m.\u001b[0m\u001b[0m_process_args\u001b[0m\u001b[1;33m(\u001b[0m\u001b[1;33m*\u001b[0m\u001b[0margs\u001b[0m\u001b[1;33m,\u001b[0m \u001b[1;33m**\u001b[0m\u001b[0mkwargs\u001b[0m\u001b[1;33m)\u001b[0m\u001b[1;33m\u001b[0m\u001b[1;33m\u001b[0m\u001b[0m\n\u001b[0m\u001b[0;32m    856\u001b[0m         \u001b[0mself\u001b[0m\u001b[1;33m.\u001b[0m\u001b[0m_process_levels\u001b[0m\u001b[1;33m(\u001b[0m\u001b[1;33m)\u001b[0m\u001b[1;33m\u001b[0m\u001b[1;33m\u001b[0m\u001b[0m\n\u001b[0;32m    857\u001b[0m \u001b[1;33m\u001b[0m\u001b[0m\n",
      "\u001b[1;32mC:\\ProgramData\\Anaconda3\\lib\\site-packages\\matplotlib\\contour.py\u001b[0m in \u001b[0;36m_process_args\u001b[1;34m(self, *args, **kwargs)\u001b[0m\n\u001b[0;32m   1454\u001b[0m                 \u001b[0mself\u001b[0m\u001b[1;33m.\u001b[0m\u001b[0m_corner_mask\u001b[0m \u001b[1;33m=\u001b[0m \u001b[0mmpl\u001b[0m\u001b[1;33m.\u001b[0m\u001b[0mrcParams\u001b[0m\u001b[1;33m[\u001b[0m\u001b[1;34m'contour.corner_mask'\u001b[0m\u001b[1;33m]\u001b[0m\u001b[1;33m\u001b[0m\u001b[1;33m\u001b[0m\u001b[0m\n\u001b[0;32m   1455\u001b[0m \u001b[1;33m\u001b[0m\u001b[0m\n\u001b[1;32m-> 1456\u001b[1;33m             \u001b[0mx\u001b[0m\u001b[1;33m,\u001b[0m \u001b[0my\u001b[0m\u001b[1;33m,\u001b[0m \u001b[0mz\u001b[0m \u001b[1;33m=\u001b[0m \u001b[0mself\u001b[0m\u001b[1;33m.\u001b[0m\u001b[0m_contour_args\u001b[0m\u001b[1;33m(\u001b[0m\u001b[0margs\u001b[0m\u001b[1;33m,\u001b[0m \u001b[0mkwargs\u001b[0m\u001b[1;33m)\u001b[0m\u001b[1;33m\u001b[0m\u001b[1;33m\u001b[0m\u001b[0m\n\u001b[0m\u001b[0;32m   1457\u001b[0m \u001b[1;33m\u001b[0m\u001b[0m\n\u001b[0;32m   1458\u001b[0m             \u001b[0m_mask\u001b[0m \u001b[1;33m=\u001b[0m \u001b[0mma\u001b[0m\u001b[1;33m.\u001b[0m\u001b[0mgetmask\u001b[0m\u001b[1;33m(\u001b[0m\u001b[0mz\u001b[0m\u001b[1;33m)\u001b[0m\u001b[1;33m\u001b[0m\u001b[1;33m\u001b[0m\u001b[0m\n",
      "\u001b[1;32mC:\\ProgramData\\Anaconda3\\lib\\site-packages\\matplotlib\\contour.py\u001b[0m in \u001b[0;36m_contour_args\u001b[1;34m(self, args, kwargs)\u001b[0m\n\u001b[0;32m   1512\u001b[0m             \u001b[0margs\u001b[0m \u001b[1;33m=\u001b[0m \u001b[0margs\u001b[0m\u001b[1;33m[\u001b[0m\u001b[1;36m1\u001b[0m\u001b[1;33m:\u001b[0m\u001b[1;33m]\u001b[0m\u001b[1;33m\u001b[0m\u001b[1;33m\u001b[0m\u001b[0m\n\u001b[0;32m   1513\u001b[0m         \u001b[1;32melif\u001b[0m \u001b[0mNargs\u001b[0m \u001b[1;33m<=\u001b[0m \u001b[1;36m4\u001b[0m\u001b[1;33m:\u001b[0m\u001b[1;33m\u001b[0m\u001b[1;33m\u001b[0m\u001b[0m\n\u001b[1;32m-> 1514\u001b[1;33m             \u001b[0mx\u001b[0m\u001b[1;33m,\u001b[0m \u001b[0my\u001b[0m\u001b[1;33m,\u001b[0m \u001b[0mz\u001b[0m \u001b[1;33m=\u001b[0m \u001b[0mself\u001b[0m\u001b[1;33m.\u001b[0m\u001b[0m_check_xyz\u001b[0m\u001b[1;33m(\u001b[0m\u001b[0margs\u001b[0m\u001b[1;33m[\u001b[0m\u001b[1;33m:\u001b[0m\u001b[1;36m3\u001b[0m\u001b[1;33m]\u001b[0m\u001b[1;33m,\u001b[0m \u001b[0mkwargs\u001b[0m\u001b[1;33m)\u001b[0m\u001b[1;33m\u001b[0m\u001b[1;33m\u001b[0m\u001b[0m\n\u001b[0m\u001b[0;32m   1515\u001b[0m             \u001b[0margs\u001b[0m \u001b[1;33m=\u001b[0m \u001b[0margs\u001b[0m\u001b[1;33m[\u001b[0m\u001b[1;36m3\u001b[0m\u001b[1;33m:\u001b[0m\u001b[1;33m]\u001b[0m\u001b[1;33m\u001b[0m\u001b[1;33m\u001b[0m\u001b[0m\n\u001b[0;32m   1516\u001b[0m         \u001b[1;32melse\u001b[0m\u001b[1;33m:\u001b[0m\u001b[1;33m\u001b[0m\u001b[1;33m\u001b[0m\u001b[0m\n",
      "\u001b[1;32mC:\\ProgramData\\Anaconda3\\lib\\site-packages\\matplotlib\\contour.py\u001b[0m in \u001b[0;36m_check_xyz\u001b[1;34m(self, args, kwargs)\u001b[0m\n\u001b[0;32m   1547\u001b[0m \u001b[1;33m\u001b[0m\u001b[0m\n\u001b[0;32m   1548\u001b[0m         \u001b[1;32mif\u001b[0m \u001b[0mz\u001b[0m\u001b[1;33m.\u001b[0m\u001b[0mndim\u001b[0m \u001b[1;33m!=\u001b[0m \u001b[1;36m2\u001b[0m\u001b[1;33m:\u001b[0m\u001b[1;33m\u001b[0m\u001b[1;33m\u001b[0m\u001b[0m\n\u001b[1;32m-> 1549\u001b[1;33m             \u001b[1;32mraise\u001b[0m \u001b[0mTypeError\u001b[0m\u001b[1;33m(\u001b[0m\u001b[1;34m\"Input z must be a 2D array.\"\u001b[0m\u001b[1;33m)\u001b[0m\u001b[1;33m\u001b[0m\u001b[1;33m\u001b[0m\u001b[0m\n\u001b[0m\u001b[0;32m   1550\u001b[0m         \u001b[1;32melif\u001b[0m \u001b[0mz\u001b[0m\u001b[1;33m.\u001b[0m\u001b[0mshape\u001b[0m\u001b[1;33m[\u001b[0m\u001b[1;36m0\u001b[0m\u001b[1;33m]\u001b[0m \u001b[1;33m<\u001b[0m \u001b[1;36m2\u001b[0m \u001b[1;32mor\u001b[0m \u001b[0mz\u001b[0m\u001b[1;33m.\u001b[0m\u001b[0mshape\u001b[0m\u001b[1;33m[\u001b[0m\u001b[1;36m1\u001b[0m\u001b[1;33m]\u001b[0m \u001b[1;33m<\u001b[0m \u001b[1;36m2\u001b[0m\u001b[1;33m:\u001b[0m\u001b[1;33m\u001b[0m\u001b[1;33m\u001b[0m\u001b[0m\n\u001b[0;32m   1551\u001b[0m             \u001b[1;32mraise\u001b[0m \u001b[0mTypeError\u001b[0m\u001b[1;33m(\u001b[0m\u001b[1;34m\"Input z must be at least a 2x2 array.\"\u001b[0m\u001b[1;33m)\u001b[0m\u001b[1;33m\u001b[0m\u001b[1;33m\u001b[0m\u001b[0m\n",
      "\u001b[1;31mTypeError\u001b[0m: Input z must be a 2D array."
     ]
    },
    {
     "data": {
      "image/png": "[encoded data removed]",
      "text/plain": [
       "<Figure size 576x720 with 2 Axes>"
      ]
     },
     "metadata": {
      "needs_background": "light"
     },
     "output_type": "display_data"
    }
   ],
   "source": [
    "#Plot CO from a single data file\n",
    "\n",
    "#Set up figure and map projection: PlateCarree(central_longitude) (MODIFY central_longitude)\n",
    "#Plate Carree: equidistant cylindrical projection w/equator as the standard parallel; default central_longitude = 0\n",
    "#Use central_longitude = 180 to avoid plotting errors near International Date Line\n",
    "fig = plt.figure(figsize=(8, 10))\n",
    "ax = fig.add_subplot(1,1,1, projection = ccrs.PlateCarree(central_longitude = 180))\n",
    "\n",
    "#Set up and label the lat/lon grid\n",
    "lon_formatter = LongitudeFormatter(zero_direction_label = True)\n",
    "lat_formatter = LatitudeFormatter()\n",
    "ax.xaxis.set_major_formatter(lon_formatter)\n",
    "ax.yaxis.set_major_formatter(lat_formatter)\n",
    "ax.set_xticks([0, 20, 40, 60, 80, 100, 120, 140, 160, 180, 200, 220, 240, 260, 280, 300, 320, 340, 360], crs = ccrs.PlateCarree())\n",
    "ax.set_yticks([-80,-70,-60,-50,-40,-30,-20,-10,0,10,20,30,40,50,60,70,80], crs = ccrs.PlateCarree())\n",
    "\n",
    "#Set lat/lon ticks and gridlines\n",
    "ax.tick_params(length = 0)\n",
    "ax.grid(linewidth = 0.5, zorder = 3)\n",
    "\n",
    "#Set domain for map [xmin, xmax, ymin, ymax] (MODIFY)\n",
    "#Use 360 degrees for longitude coordinates (i.e, -100 = 260)\n",
    "ax.set_extent([125, 180, -10, -50], crs = ccrs.PlateCarree())\n",
    "\n",
    "#Draw coastlines/borders using Cartopy; zorder sets drawing order for layers\n",
    "ax.coastlines(resolution = '50m', zorder = 3)\n",
    "ax.add_feature(cfeature.BORDERS, zorder = 3)\n",
    "ax.add_feature(cfeature.NaturalEarthFeature(category = 'cultural', name = 'admin_1_states_provinces', scale = '50m'), facecolor = 'none', lw = 0.5, edgecolor = 'black', zorder = 2)\n",
    "ax.add_feature(cfeature.NaturalEarthFeature(category = 'physical', name = 'ocean', scale = '50m'), facecolor = 'lightgrey')\n",
    "ax.add_feature(cfeature.NaturalEarthFeature(category = 'physical', name = 'land', scale = '50m'), facecolor = 'grey')\n",
    "ax.add_feature(cfeature.NaturalEarthFeature(category = 'physical', name = 'lakes', scale = '50m'), facecolor = 'lightgrey', edgecolor = 'black', zorder = 2)\n",
    "\n",
    "#Add and format title (MODIFY name)\n",
    "plt.title('S5P/TROPOMI\\nTotal Column CO\\n01:56 UTC, 3 Jan 2020', y = 1.025, ma = 'center', size = 15, weight = 'bold')\n",
    "\n",
    "#Create custom color map for plot and colorbar\n",
    "#.set_over sets color for plotting data > max\n",
    "color_map = mpl.colors.LinearSegmentedColormap.from_list('custom_AOD', [(0, 'indigo'),(0.1, 'mediumblue'), (0.2, 'blue'), (0.3, 'royalblue'), (0.4, 'skyblue'), (0.5, 'cyan'), (0.6, 'yellow'), (0.7, 'orange'), (0.8, 'darkorange'), (0.9, 'red'), (1, 'firebrick')], N = 150)\n",
    "color_map.set_over('darkred')\n",
    "\n",
    "#Add and format continuous colorbar\n",
    "##cbar_ax are dummy variables; location/attributes of colorbar set by .set_position (x0, y0, width, height) to scale automatically with plot\n",
    "cbar_ax = fig.add_axes([0, 0, 0, 0])\n",
    "plt.draw()\n",
    "posn = ax.get_position()\n",
    "cbar_ax.set_position([0.35, posn.y0 - 0.06, 0.3, 0.02])\n",
    "norm = mpl.colors.Normalize(vmin = 0, vmax = 1)\n",
    "cb = mpl.colorbar.ColorbarBase(cbar_ax, cmap = color_map, norm = norm, orientation = 'horizontal', ticks = [0, 0.25, 0.5, 0.75, 1], extend = 'max')\n",
    "cb.set_label(label = 'Total Column CO (mol m$\\mathregular{^{-2}}$)', size = 'medium', weight = 'bold')\n",
    "cb.ax.set_xticklabels(['0', '0.25', '0.50', '0.75', '1.0'])\n",
    "cb.ax.tick_params(labelsize = 'medium')\n",
    "\n",
    "#Set range for plotting data (data min, data max, contour interval) (MODIFY contour interval)\n",
    "#interval: 0.1 = runs faster/coarser resolution, 0.01 = runs slower/higher resolution\n",
    "data_range = np.arange(0, 1.1, 0.1)\n",
    "\n",
    "#Create filled contour plot of AOD data\n",
    "Plot = ax.contourf(Lon, Lat, CO, data_range, cmap = color_map, extend = 'max', zorder = 3, transform = ccrs.PlateCarree())\n",
    "\n",
    "#Show figure\n",
    "plt.show()\n",
    "\n",
    "#Save figure as a .png file (MODIFY path, name)\n",
    "fig.savefig('D://Data/20200103/TROPOMI CO/Figures/S5P_TROPOMI_CO_20200103_0156', bbox_inches = 'tight', dpi = 150)"
   ]
  },
  {
   "cell_type": "code",
   "execution_count": null,
   "metadata": {},
   "outputs": [],
   "source": []
  }
 ],
 "metadata": {
  "kernelspec": {
   "display_name": "Python 3",
   "language": "python",
   "name": "python3"
  },
  "language_info": {
   "codemirror_mode": {
    "name": "ipython",
    "version": 3
   },
   "file_extension": ".py",
   "mimetype": "text/x-python",
   "name": "python",
   "nbconvert_exporter": "python",
   "pygments_lexer": "ipython3",
   "version": "3.7.4"
  },
  "varInspector": {
   "cols": {
    "lenName": 16,
    "lenType": 16,
    "lenVar": 40
   },
   "kernels_config": {
    "python": {
     "delete_cmd_postfix": "",
     "delete_cmd_prefix": "del ",
     "library": "var_list.py",
     "varRefreshCmd": "print(var_dic_list())"
    },
    "r": {
     "delete_cmd_postfix": ") ",
     "delete_cmd_prefix": "rm(",
     "library": "var_list.r",
     "varRefreshCmd": "cat(var_dic_list()) "
    }
   },
   "types_to_exclude": [
    "module",
    "function",
    "builtin_function_or_method",
    "instance",
    "_Feature"
   ],
   "window_display": false
  }
 },
 "nbformat": 4,
 "nbformat_minor": 2
}
