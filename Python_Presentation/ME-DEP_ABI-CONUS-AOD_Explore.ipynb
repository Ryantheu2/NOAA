{
 "cells": [
  {
   "cell_type": "code",
   "execution_count": null,
   "metadata": {},
   "outputs": [],
   "source": [
    "#Block 0: Documentation\n",
    "\n",
    "print('Program to explore an ABI AOD netCDF data file, Maine DEP Aerosol and Trace Gases Satellite Product Training, November 10, 2020\\n')\n",
    "print('Version 1.0, October 14, 2020\\n')\n",
    "print('Written by Dr. Amy Huff (IMSG at NOAA/NESDIS/STAR) and Ryan Theurer (GVT LLC at NOAA/NESDIS/STAR)\\n')\n",
    "print('For questions contact Dr. Huff: amy.huff@noaa.gov\\n')\n",
    "print('This program shows users how to open and explore a netCDF4 file containing GOES-16 ABI aerosol optical depth (AOD) satellite data.')"
   ]
  },
  {
   "cell_type": "code",
   "execution_count": null,
   "metadata": {
    "scrolled": false
   },
   "outputs": [],
   "source": [
    "#Block 1: Import libraries\n",
    "\n",
    "#Library to perform array operations\n",
    "import numpy as np \n",
    "\n",
    "#Library for accessing files in the directory\n",
    "import os\n",
    "\n",
    "#Library to read in netCDF files\n",
    "from netCDF4 import Dataset"
   ]
  },
  {
   "cell_type": "code",
   "execution_count": null,
   "metadata": {
    "scrolled": false
   },
   "outputs": [],
   "source": [
    "#Block 2: Open an ABI AOD netCDF4 data file\n",
    "\n",
    "#Enter file name\n",
    "file_path = os.getcwd()\n",
    "file_name = '/OR_ABI-L2-AODC-M6_G16_s20202601501123_e20202601503496_c20202601506349.nc'\n",
    "fname = file_path + file_name\n",
    "\n",
    "#Set the file name to read\n",
    "file_id = Dataset(fname)"
   ]
  },
  {
   "cell_type": "code",
   "execution_count": null,
   "metadata": {},
   "outputs": [],
   "source": [
    "#Block 3: List the metadata for the entire file\n",
    "\n",
    "print(file_id)"
   ]
  },
  {
   "cell_type": "code",
   "execution_count": null,
   "metadata": {},
   "outputs": [],
   "source": [
    "#Block 4: Show the AOD metadata\n",
    "\n",
    "print(file_id.variables['AOD'])"
   ]
  },
  {
   "cell_type": "code",
   "execution_count": null,
   "metadata": {},
   "outputs": [],
   "source": [
    "#Block 5: Convert the AOD valid range from unsigned integers to floats\n",
    "\n",
    "print('AOD range is', (file_id.variables['AOD'].valid_range)*(file_id.variables['AOD'].scale_factor)+(file_id.variables['AOD'].add_offset))"
   ]
  },
  {
   "cell_type": "code",
   "execution_count": null,
   "metadata": {},
   "outputs": [],
   "source": [
    "#Block 6: List excerpt of AOD array values and check the range of AOD data\n",
    "\n",
    "print(file_id.variables['AOD'][:,:])\n",
    "print('The maximum AOD value is', np.max(file_id.variables['AOD'][:,:]))\n",
    "print('The minimum AOD value is', np.min(file_id.variables['AOD'][:,:]))"
   ]
  },
  {
   "cell_type": "code",
   "execution_count": null,
   "metadata": {},
   "outputs": [],
   "source": [
    "#Block 7: Show the DQF metadata\n",
    "\n",
    "print(file_id.variables['DQF'])"
   ]
  },
  {
   "cell_type": "code",
   "execution_count": null,
   "metadata": {},
   "outputs": [],
   "source": [
    "#Block 8: List an excerpt of DQF array values and check the range of DQF data\n",
    "\n",
    "print(file_id.variables['DQF'][:,:])\n",
    "print('The maximum DQF value is', np.max(file_id.variables['DQF'][:,:]))\n",
    "print('The minimum DQF value is', np.min(file_id.variables['DQF'][:,:]))"
   ]
  },
  {
   "cell_type": "code",
   "execution_count": null,
   "metadata": {
    "scrolled": false
   },
   "outputs": [],
   "source": [
    "#Block 9: Check the data types for AOD, DQF, latitude, and longitude variables\n",
    "\n",
    "print('AOD data type is', (file_id.variables['AOD'][:,:].dtype))\n",
    "print('DQF data type is', (file_id.variables['DQF'][:,:].dtype))\n",
    "print('Latitude data type is', (file_id.variables['x'][:].dtype))\n",
    "print('Longitude data type is', (file_id.variables['y'][:].dtype))"
   ]
  },
  {
   "cell_type": "code",
   "execution_count": null,
   "metadata": {
    "scrolled": false
   },
   "outputs": [],
   "source": [
    "#Block 10: Check the units for AOD, DQF, latitude, and longitude variables (note: \"1\" means unitless)\n",
    "\n",
    "print('AOD unit is', (file_id.variables['AOD'].__getattr__('units')))\n",
    "print('DQF unit is', (file_id.variables['DQF'].__getattr__('units')))\n",
    "print('Latitude unit is', (file_id.variables['x'].__getattr__('units')))\n",
    "print('Longitude unit is', (file_id.variables['y'].__getattr__('units')))"
   ]
  },
  {
   "cell_type": "code",
   "execution_count": null,
   "metadata": {},
   "outputs": [],
   "source": [
    "#Block 11: Check the spatial resolution of the ABI AOD data\n",
    "\n",
    "print((file_id.__getattr__('title')),'spatial resolution is', (file_id.__getattr__('spatial_resolution')))"
   ]
  },
  {
   "cell_type": "code",
   "execution_count": null,
   "metadata": {},
   "outputs": [],
   "source": []
  }
 ],
 "metadata": {
  "kernelspec": {
   "display_name": "Python 3",
   "language": "python",
   "name": "python3"
  },
  "language_info": {
   "codemirror_mode": {
    "name": "ipython",
    "version": 3
   },
   "file_extension": ".py",
   "mimetype": "text/x-python",
   "name": "python",
   "nbconvert_exporter": "python",
   "pygments_lexer": "ipython3",
   "version": "3.7.4"
  },
  "varInspector": {
   "cols": {
    "lenName": 16,
    "lenType": 16,
    "lenVar": 40
   },
   "kernels_config": {
    "python": {
     "delete_cmd_postfix": "",
     "delete_cmd_prefix": "del ",
     "library": "var_list.py",
     "varRefreshCmd": "print(var_dic_list())"
    },
    "r": {
     "delete_cmd_postfix": ") ",
     "delete_cmd_prefix": "rm(",
     "library": "var_list.r",
     "varRefreshCmd": "cat(var_dic_list()) "
    }
   },
   "types_to_exclude": [
    "module",
    "function",
    "builtin_function_or_method",
    "instance",
    "_Feature"
   ],
   "window_display": false
  }
 },
 "nbformat": 4,
 "nbformat_minor": 2
}
